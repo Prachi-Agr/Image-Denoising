{
  "nbformat": 4,
  "nbformat_minor": 0,
  "metadata": {
    "colab": {
      "name": "Image Denoising.ipynb",
      "provenance": []
    },
    "kernelspec": {
      "name": "python3",
      "display_name": "Python 3"
    },
    "accelerator": "GPU"
  },
  "cells": [
    {
      "cell_type": "code",
      "metadata": {
        "id": "I5HLqvkyDb-9",
        "colab_type": "code",
        "colab": {}
      },
      "source": [
        "import keras\n",
        "from keras.models import load_model\n",
        "from keras.datasets import cifar10\n",
        "from keras.models import Model\n",
        "from keras.callbacks import EarlyStopping, ModelCheckpoint\n",
        "from keras.optimizers import Adam\n",
        "from tensorflow.keras.layers import Conv2D, Input, Dense, Reshape, Conv2DTranspose,Activation, BatchNormalization, ReLU, Concatenate, MaxPooling2D, UpSampling2D\n",
        "from tensorflow.keras.models import Model\n",
        "from tensorflow.keras.callbacks import ModelCheckpoint\n",
        "from tensorflow.keras.datasets import cifar100, cifar10\n",
        "import os\n",
        "import pickle\n",
        "import numpy as np\n",
        "import matplotlib.pyplot as plt"
      ],
      "execution_count": 2,
      "outputs": []
    },
    {
      "cell_type": "markdown",
      "metadata": {
        "id": "KnGSa7zWRmjb",
        "colab_type": "text"
      },
      "source": [
        "# Loading CIFAR10 dataset\n",
        "The dataset contains 50,000 training images and 10,000 test images"
      ]
    },
    {
      "cell_type": "code",
      "metadata": {
        "id": "TJ4Bxl8tDhml",
        "colab_type": "code",
        "colab": {
          "base_uri": "https://localhost:8080/",
          "height": 52
        },
        "outputId": "90bda044-ee9a-4ba8-d6f7-4a150071ee54"
      },
      "source": [
        "(train_data, _), (test_data, _) = cifar10.load_data()\n"
      ],
      "execution_count": 3,
      "outputs": [
        {
          "output_type": "stream",
          "text": [
            "Downloading data from https://www.cs.toronto.edu/~kriz/cifar-10-python.tar.gz\n",
            "170500096/170498071 [==============================] - 2s 0us/step\n"
          ],
          "name": "stdout"
        }
      ]
    },
    {
      "cell_type": "markdown",
      "metadata": {
        "id": "ppvnxThMR3uJ",
        "colab_type": "text"
      },
      "source": [
        "Normalizing images"
      ]
    },
    {
      "cell_type": "code",
      "metadata": {
        "id": "ocHJjX8KENuK",
        "colab_type": "code",
        "colab": {}
      },
      "source": [
        "train_data = train_data.astype('float32') / 255.\n",
        "test_data = test_data.astype('float32') / 255."
      ],
      "execution_count": 4,
      "outputs": []
    },
    {
      "cell_type": "markdown",
      "metadata": {
        "id": "j9XBuTpcR8HP",
        "colab_type": "text"
      },
      "source": [
        "# Adding Gaussian Noise\n"
      ]
    },
    {
      "cell_type": "code",
      "metadata": {
        "id": "FECkcyJ8ESME",
        "colab_type": "code",
        "colab": {}
      },
      "source": [
        "def noise(data):\n",
        "    noise = np.random.normal(loc=0.0, scale=0.1, size=data.shape)    #Gaussian noise with mean 0 and standard deviation 0.1\n",
        "    data = data + noise\n",
        "    data = np.clip(data, 0., 1.)                                     #Pixel values clipped to 0-1 after adding noise\n",
        "    return data"
      ],
      "execution_count": 5,
      "outputs": []
    },
    {
      "cell_type": "code",
      "metadata": {
        "id": "AX8hnwbTEU8J",
        "colab_type": "code",
        "colab": {}
      },
      "source": [
        "train_noise = noise(train_data)\n",
        "test_noise = noise(test_data)"
      ],
      "execution_count": 6,
      "outputs": []
    },
    {
      "cell_type": "markdown",
      "metadata": {
        "id": "XtBdJ0vtTG4K",
        "colab_type": "text"
      },
      "source": [
        "Original and Noisy Images"
      ]
    },
    {
      "cell_type": "code",
      "metadata": {
        "id": "4Yld3mLBEXuT",
        "colab_type": "code",
        "colab": {
          "base_uri": "https://localhost:8080/",
          "height": 216
        },
        "outputId": "a0bacea1-ed9a-4956-e7ef-a590c7cff4f7"
      },
      "source": [
        "idx = 6\n",
        "plt.subplot(1,2,1)\n",
        "plt.imshow(train_data[idx])\n",
        "plt.title('Original image')\n",
        "plt.subplot(1,2,2)\n",
        "plt.imshow(train_noise[idx])\n",
        "plt.title('Image with noise')\n",
        "plt.show()"
      ],
      "execution_count": 7,
      "outputs": [
        {
          "output_type": "display_data",
          "data": {
            "image/png": "[encoded data removed]",
            "text/plain": [
              "<Figure size 432x288 with 2 Axes>"
            ]
          },
          "metadata": {
            "tags": [],
            "needs_background": "light"
          }
        }
      ]
    },
    {
      "cell_type": "markdown",
      "metadata": {
        "id": "psnQZFzLTPuy",
        "colab_type": "text"
      },
      "source": [
        "# Autoencoder"
      ]
    },
    {
      "cell_type": "code",
      "metadata": {
        "id": "rI1zSQhYEc39",
        "colab_type": "code",
        "colab": {}
      },
      "source": [
        "def conv_block(x, filters, kernel_size, strides=2):\n",
        "    x = Conv2D(filters=filters,\n",
        "              kernel_size=kernel_size,\n",
        "              strides=strides,\n",
        "              padding='same')(x)\n",
        "    x = BatchNormalization()(x)\n",
        "    x = ReLU()(x)\n",
        "    return x\n",
        "\n",
        "def deconv_block(x, filters, kernel_size):\n",
        "    x = Conv2DTranspose(filters=filters,\n",
        "                       kernel_size=kernel_size,\n",
        "                       strides=2,\n",
        "                       padding='same')(x)\n",
        "    x = BatchNormalization()(x)\n",
        "    x = ReLU()(x)\n",
        "    return x"
      ],
      "execution_count": 8,
      "outputs": []
    },
    {
      "cell_type": "code",
      "metadata": {
        "id": "YeHfRU1OEgNY",
        "colab_type": "code",
        "colab": {}
      },
      "source": [
        "def denoising_autoencoder():\n",
        "    dae_inputs = Input(shape=(32, 32, 3), name='dae_input')\n",
        "    conv_block1 = conv_block(dae_inputs, 32, 3)\n",
        "    conv_block2 = conv_block(conv_block1, 64, 3)\n",
        "    conv_block3 = conv_block(conv_block2, 128, 3)\n",
        "    conv_block4 = conv_block(conv_block3, 256, 3)\n",
        "    conv_block5 = conv_block(conv_block4, 256, 3, 1)\n",
        "\n",
        "    deconv_block1 = deconv_block(conv_block5, 256, 3)\n",
        "    merge1 = Concatenate()([deconv_block1, conv_block3])\n",
        "    deconv_block2 = deconv_block(merge1, 128, 3)\n",
        "    merge2 = Concatenate()([deconv_block2, conv_block2])\n",
        "    deconv_block3 = deconv_block(merge2, 64, 3)\n",
        "    merge3 = Concatenate()([deconv_block3, conv_block1])\n",
        "    deconv_block4 = deconv_block(merge3, 32, 3)\n",
        "\n",
        "    final_deconv = Conv2DTranspose(filters=3,\n",
        "                       kernel_size=3,\n",
        "                       padding='same')(deconv_block4)\n",
        "\n",
        "    dae_outputs = Activation('sigmoid', name='dae_output')(final_deconv)\n",
        "  \n",
        "    return Model(dae_inputs, dae_outputs, name='dae')"
      ],
      "execution_count": 9,
      "outputs": []
    },
    {
      "cell_type": "code",
      "metadata": {
        "id": "gZp9PiMOEk93",
        "colab_type": "code",
        "colab": {
          "base_uri": "https://localhost:8080/",
          "height": 1000
        },
        "outputId": "357822db-8b59-4e9d-b1b4-6b27bef1efc1"
      },
      "source": [
        "dae = denoising_autoencoder()\n",
        "dae.compile(loss='mse', optimizer='adam')\n",
        "\n",
        "checkpoint = ModelCheckpoint('best_model.h5', verbose=1, save_best_only=True, save_weights_only=True)\n",
        "\n",
        "dae.fit(train_noise,train_data,validation_data=(test_noise, test_data),epochs=40,batch_size=100,callbacks=[checkpoint])"
      ],
      "execution_count": 11,
      "outputs": [
        {
          "output_type": "stream",
          "text": [
            "Epoch 1/40\n",
            "499/500 [============================>.] - ETA: 0s - loss: 0.0041\n",
            "Epoch 00001: val_loss improved from inf to 0.00279, saving model to best_model.h5\n",
            "500/500 [==============================] - 25s 50ms/step - loss: 0.0041 - val_loss: 0.0028\n",
            "Epoch 2/40\n",
            "499/500 [============================>.] - ETA: 0s - loss: 0.0024\n",
            "Epoch 00002: val_loss improved from 0.00279 to 0.00215, saving model to best_model.h5\n",
            "500/500 [==============================] - 25s 50ms/step - loss: 0.0024 - val_loss: 0.0021\n",
            "Epoch 3/40\n",
            "499/500 [============================>.] - ETA: 0s - loss: 0.0022\n",
            "Epoch 00003: val_loss improved from 0.00215 to 0.00205, saving model to best_model.h5\n",
            "500/500 [==============================] - 25s 50ms/step - loss: 0.0022 - val_loss: 0.0021\n",
            "Epoch 4/40\n",
            "499/500 [============================>.] - ETA: 0s - loss: 0.0022\n",
            "Epoch 00004: val_loss did not improve from 0.00205\n",
            "500/500 [==============================] - 25s 50ms/step - loss: 0.0022 - val_loss: 0.0022\n",
            "Epoch 5/40\n",
            "500/500 [==============================] - ETA: 0s - loss: 0.0021\n",
            "Epoch 00005: val_loss improved from 0.00205 to 0.00190, saving model to best_model.h5\n",
            "500/500 [==============================] - 25s 50ms/step - loss: 0.0021 - val_loss: 0.0019\n",
            "Epoch 6/40\n",
            "499/500 [============================>.] - ETA: 0s - loss: 0.0020\n",
            "Epoch 00006: val_loss did not improve from 0.00190\n",
            "500/500 [==============================] - 25s 50ms/step - loss: 0.0020 - val_loss: 0.0020\n",
            "Epoch 7/40\n",
            "499/500 [============================>.] - ETA: 0s - loss: 0.0020\n",
            "Epoch 00007: val_loss improved from 0.00190 to 0.00185, saving model to best_model.h5\n",
            "500/500 [==============================] - 25s 50ms/step - loss: 0.0020 - val_loss: 0.0019\n",
            "Epoch 8/40\n",
            "499/500 [============================>.] - ETA: 0s - loss: 0.0020\n",
            "Epoch 00008: val_loss improved from 0.00185 to 0.00179, saving model to best_model.h5\n",
            "500/500 [==============================] - 25s 50ms/step - loss: 0.0020 - val_loss: 0.0018\n",
            "Epoch 9/40\n",
            "499/500 [============================>.] - ETA: 0s - loss: 0.0019\n",
            "Epoch 00009: val_loss did not improve from 0.00179\n",
            "500/500 [==============================] - 25s 50ms/step - loss: 0.0019 - val_loss: 0.0018\n",
            "Epoch 10/40\n",
            "499/500 [============================>.] - ETA: 0s - loss: 0.0019\n",
            "Epoch 00010: val_loss improved from 0.00179 to 0.00171, saving model to best_model.h5\n",
            "500/500 [==============================] - 25s 50ms/step - loss: 0.0019 - val_loss: 0.0017\n",
            "Epoch 11/40\n",
            "500/500 [==============================] - ETA: 0s - loss: 0.0018\n",
            "Epoch 00011: val_loss improved from 0.00171 to 0.00170, saving model to best_model.h5\n",
            "500/500 [==============================] - 25s 50ms/step - loss: 0.0018 - val_loss: 0.0017\n",
            "Epoch 12/40\n",
            "499/500 [============================>.] - ETA: 0s - loss: 0.0018\n",
            "Epoch 00012: val_loss did not improve from 0.00170\n",
            "500/500 [==============================] - 25s 50ms/step - loss: 0.0018 - val_loss: 0.0018\n",
            "Epoch 13/40\n",
            "500/500 [==============================] - ETA: 0s - loss: 0.0018\n",
            "Epoch 00013: val_loss did not improve from 0.00170\n",
            "500/500 [==============================] - 25s 50ms/step - loss: 0.0018 - val_loss: 0.0017\n",
            "Epoch 14/40\n",
            "500/500 [==============================] - ETA: 0s - loss: 0.0018\n",
            "Epoch 00014: val_loss improved from 0.00170 to 0.00166, saving model to best_model.h5\n",
            "500/500 [==============================] - 25s 50ms/step - loss: 0.0018 - val_loss: 0.0017\n",
            "Epoch 15/40\n",
            "500/500 [==============================] - ETA: 0s - loss: 0.0017\n",
            "Epoch 00015: val_loss improved from 0.00166 to 0.00162, saving model to best_model.h5\n",
            "500/500 [==============================] - 25s 50ms/step - loss: 0.0017 - val_loss: 0.0016\n",
            "Epoch 16/40\n",
            "499/500 [============================>.] - ETA: 0s - loss: 0.0017\n",
            "Epoch 00016: val_loss improved from 0.00162 to 0.00162, saving model to best_model.h5\n",
            "500/500 [==============================] - 25s 50ms/step - loss: 0.0017 - val_loss: 0.0016\n",
            "Epoch 17/40\n",
            "499/500 [============================>.] - ETA: 0s - loss: 0.0017\n",
            "Epoch 00017: val_loss did not improve from 0.00162\n",
            "500/500 [==============================] - 25s 50ms/step - loss: 0.0017 - val_loss: 0.0016\n",
            "Epoch 18/40\n",
            "499/500 [============================>.] - ETA: 0s - loss: 0.0017\n",
            "Epoch 00018: val_loss improved from 0.00162 to 0.00160, saving model to best_model.h5\n",
            "500/500 [==============================] - 25s 50ms/step - loss: 0.0017 - val_loss: 0.0016\n",
            "Epoch 19/40\n",
            "500/500 [==============================] - ETA: 0s - loss: 0.0017\n",
            "Epoch 00019: val_loss did not improve from 0.00160\n",
            "500/500 [==============================] - 25s 50ms/step - loss: 0.0017 - val_loss: 0.0017\n",
            "Epoch 20/40\n",
            "499/500 [============================>.] - ETA: 0s - loss: 0.0016\n",
            "Epoch 00020: val_loss did not improve from 0.00160\n",
            "500/500 [==============================] - 25s 50ms/step - loss: 0.0016 - val_loss: 0.0016\n",
            "Epoch 21/40\n",
            "499/500 [============================>.] - ETA: 0s - loss: 0.0016\n",
            "Epoch 00021: val_loss improved from 0.00160 to 0.00159, saving model to best_model.h5\n",
            "500/500 [==============================] - 25s 50ms/step - loss: 0.0016 - val_loss: 0.0016\n",
            "Epoch 22/40\n",
            "499/500 [============================>.] - ETA: 0s - loss: 0.0016\n",
            "Epoch 00022: val_loss improved from 0.00159 to 0.00155, saving model to best_model.h5\n",
            "500/500 [==============================] - 25s 50ms/step - loss: 0.0016 - val_loss: 0.0016\n",
            "Epoch 23/40\n",
            "500/500 [==============================] - ETA: 0s - loss: 0.0016\n",
            "Epoch 00023: val_loss did not improve from 0.00155\n",
            "500/500 [==============================] - 25s 50ms/step - loss: 0.0016 - val_loss: 0.0016\n",
            "Epoch 24/40\n",
            "500/500 [==============================] - ETA: 0s - loss: 0.0016\n",
            "Epoch 00024: val_loss did not improve from 0.00155\n",
            "500/500 [==============================] - 25s 50ms/step - loss: 0.0016 - val_loss: 0.0016\n",
            "Epoch 25/40\n",
            "499/500 [============================>.] - ETA: 0s - loss: 0.0016\n",
            "Epoch 00025: val_loss improved from 0.00155 to 0.00154, saving model to best_model.h5\n",
            "500/500 [==============================] - 25s 51ms/step - loss: 0.0016 - val_loss: 0.0015\n",
            "Epoch 26/40\n",
            "499/500 [============================>.] - ETA: 0s - loss: 0.0016\n",
            "Epoch 00026: val_loss did not improve from 0.00154\n",
            "500/500 [==============================] - 25s 50ms/step - loss: 0.0016 - val_loss: 0.0016\n",
            "Epoch 27/40\n",
            "499/500 [============================>.] - ETA: 0s - loss: 0.0016\n",
            "Epoch 00027: val_loss did not improve from 0.00154\n",
            "500/500 [==============================] - 25s 50ms/step - loss: 0.0016 - val_loss: 0.0016\n",
            "Epoch 28/40\n",
            "500/500 [==============================] - ETA: 0s - loss: 0.0016\n",
            "Epoch 00028: val_loss did not improve from 0.00154\n",
            "500/500 [==============================] - 25s 50ms/step - loss: 0.0016 - val_loss: 0.0015\n",
            "Epoch 29/40\n",
            "500/500 [==============================] - ETA: 0s - loss: 0.0016\n",
            "Epoch 00029: val_loss did not improve from 0.00154\n",
            "500/500 [==============================] - 25s 50ms/step - loss: 0.0016 - val_loss: 0.0016\n",
            "Epoch 30/40\n",
            "500/500 [==============================] - ETA: 0s - loss: 0.0016\n",
            "Epoch 00030: val_loss improved from 0.00154 to 0.00153, saving model to best_model.h5\n",
            "500/500 [==============================] - 25s 50ms/step - loss: 0.0016 - val_loss: 0.0015\n",
            "Epoch 31/40\n",
            "500/500 [==============================] - ETA: 0s - loss: 0.0016\n",
            "Epoch 00031: val_loss did not improve from 0.00153\n",
            "500/500 [==============================] - 25s 50ms/step - loss: 0.0016 - val_loss: 0.0016\n",
            "Epoch 32/40\n",
            "499/500 [============================>.] - ETA: 0s - loss: 0.0015\n",
            "Epoch 00032: val_loss did not improve from 0.00153\n",
            "500/500 [==============================] - 25s 50ms/step - loss: 0.0015 - val_loss: 0.0015\n",
            "Epoch 33/40\n",
            "499/500 [============================>.] - ETA: 0s - loss: 0.0015\n",
            "Epoch 00033: val_loss improved from 0.00153 to 0.00153, saving model to best_model.h5\n",
            "500/500 [==============================] - 25s 50ms/step - loss: 0.0015 - val_loss: 0.0015\n",
            "Epoch 34/40\n",
            "499/500 [============================>.] - ETA: 0s - loss: 0.0015\n",
            "Epoch 00034: val_loss did not improve from 0.00153\n",
            "500/500 [==============================] - 25s 50ms/step - loss: 0.0015 - val_loss: 0.0016\n",
            "Epoch 35/40\n",
            "500/500 [==============================] - ETA: 0s - loss: 0.0015\n",
            "Epoch 00035: val_loss improved from 0.00153 to 0.00152, saving model to best_model.h5\n",
            "500/500 [==============================] - 25s 50ms/step - loss: 0.0015 - val_loss: 0.0015\n",
            "Epoch 36/40\n",
            "499/500 [============================>.] - ETA: 0s - loss: 0.0015\n",
            "Epoch 00036: val_loss improved from 0.00152 to 0.00151, saving model to best_model.h5\n",
            "500/500 [==============================] - 25s 50ms/step - loss: 0.0015 - val_loss: 0.0015\n",
            "Epoch 37/40\n",
            "499/500 [============================>.] - ETA: 0s - loss: 0.0015\n",
            "Epoch 00037: val_loss did not improve from 0.00151\n",
            "500/500 [==============================] - 25s 50ms/step - loss: 0.0015 - val_loss: 0.0015\n",
            "Epoch 38/40\n",
            "500/500 [==============================] - ETA: 0s - loss: 0.0015\n",
            "Epoch 00038: val_loss did not improve from 0.00151\n",
            "500/500 [==============================] - 25s 50ms/step - loss: 0.0015 - val_loss: 0.0015\n",
            "Epoch 39/40\n",
            "500/500 [==============================] - ETA: 0s - loss: 0.0015\n",
            "Epoch 00039: val_loss did not improve from 0.00151\n",
            "500/500 [==============================] - 25s 50ms/step - loss: 0.0015 - val_loss: 0.0015\n",
            "Epoch 40/40\n",
            "500/500 [==============================] - ETA: 0s - loss: 0.0015\n",
            "Epoch 00040: val_loss did not improve from 0.00151\n",
            "500/500 [==============================] - 25s 50ms/step - loss: 0.0015 - val_loss: 0.0015\n"
          ],
          "name": "stdout"
        },
        {
          "output_type": "execute_result",
          "data": {
            "text/plain": [
              "<tensorflow.python.keras.callbacks.History at 0x7f861d98f438>"
            ]
          },
          "metadata": {
            "tags": []
          },
          "execution_count": 11
        }
      ]
    },
    {
      "cell_type": "markdown",
      "metadata": {
        "id": "T5NkXbJFUzUC",
        "colab_type": "text"
      },
      "source": [
        "Denoising Results for test data"
      ]
    },
    {
      "cell_type": "code",
      "metadata": {
        "id": "qSFWaM97EoCl",
        "colab_type": "code",
        "colab": {
          "base_uri": "https://localhost:8080/",
          "height": 180
        },
        "outputId": "d7cacacd-d395-416c-f764-b306a5af57c3"
      },
      "source": [
        "dae.load_weights('best_model.h5')\n",
        "test_data_denoised = dae.predict(test_noise)\n",
        "idx = 4\n",
        "plt.subplot(1,3,1)\n",
        "plt.imshow(test_data[idx])\n",
        "plt.title('original')\n",
        "plt.subplot(1,3,2)\n",
        "plt.imshow(test_noise[idx])\n",
        "plt.title('noisy')\n",
        "plt.subplot(1,3,3)\n",
        "plt.imshow(test_data_denoised[idx])\n",
        "plt.title('denoised')"
      ],
      "execution_count": 13,
      "outputs": [
        {
          "output_type": "execute_result",
          "data": {
            "text/plain": [
              "Text(0.5, 1.0, 'denoised')"
            ]
          },
          "metadata": {
            "tags": []
          },
          "execution_count": 13
        },
        {
          "output_type": "display_data",
          "data": {
            "image/png": "[encoded data removed]",
            "text/plain": [
              "<Figure size 432x288 with 3 Axes>"
            ]
          },
          "metadata": {
            "tags": [],
            "needs_background": "light"
          }
        }
      ]
    },
    {
      "cell_type": "code",
      "metadata": {
        "id": "iGXzy-wkRFKV",
        "colab_type": "code",
        "colab": {}
      },
      "source": [
        ""
      ],
      "execution_count": null,
      "outputs": []
    }
  ]
}